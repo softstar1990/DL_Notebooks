{
 "cells": [
  {
   "cell_type": "code",
   "execution_count": 1,
   "metadata": {
    "collapsed": false
   },
   "outputs": [
    {
     "data": {
      "text/plain": [
       "'/Users/ZhuJiaqi517/Documents/iPython Notebook'"
      ]
     },
     "execution_count": 1,
     "metadata": {},
     "output_type": "execute_result"
    }
   ],
   "source": [
    "pwd"
   ]
  },
  {
   "cell_type": "code",
   "execution_count": 2,
   "metadata": {
    "collapsed": false
   },
   "outputs": [
    {
     "name": "stderr",
     "output_type": "stream",
     "text": [
      "Using Theano backend.\n"
     ]
    }
   ],
   "source": [
    "import keras"
   ]
  },
  {
   "cell_type": "code",
   "execution_count": 3,
   "metadata": {
    "collapsed": true
   },
   "outputs": [],
   "source": [
    "import os\n",
    "import h5py\n",
    "import numpy as np\n",
    "from keras.preprocessing.image import ImageDataGenerator\n",
    "from keras.models import Sequential\n",
    "from keras.layers import Convolution2D, MaxPooling2D, ZeroPadding2D\n",
    "from keras.layers import Activation, Dropout, Flatten, Dense"
   ]
  },
  {
   "cell_type": "code",
   "execution_count": 4,
   "metadata": {
    "collapsed": true
   },
   "outputs": [],
   "source": [
    "# path to the model weights file.\n",
    "weights_path = 'vgg16_weights.h5'\n",
    "top_model_weights_path = 'bottleneck_fc_model.h5'\n",
    "# dimensions of our images.\n",
    "img_width, img_height = 150, 150\n",
    "\n",
    "train_data_dir = 'data/train'\n",
    "validation_data_dir = 'data/validation'\n",
    "nb_train_samples = 2000\n",
    "nb_validation_samples = 800\n",
    "nb_epoch = 50"
   ]
  },
  {
   "cell_type": "code",
   "execution_count": 11,
   "metadata": {
    "collapsed": true
   },
   "outputs": [],
   "source": [
    "def save_bottlebeck_features():\n",
    "    datagen = ImageDataGenerator(rescale=1./255)\n",
    "\n",
    "    # build the VGG16 network\n",
    "    model = Sequential()\n",
    "    model.add(ZeroPadding2D((1, 1), input_shape=(3, img_width, img_height)))\n",
    "\n",
    "    model.add(Convolution2D(64, 3, 3, activation='relu', name='conv1_1'))\n",
    "    model.add(ZeroPadding2D((1, 1)))\n",
    "    model.add(Convolution2D(64, 3, 3, activation='relu', name='conv1_2'))\n",
    "    model.add(MaxPooling2D((2, 2), strides=(2, 2)))\n",
    "\n",
    "    model.add(ZeroPadding2D((1, 1)))\n",
    "    model.add(Convolution2D(128, 3, 3, activation='relu', name='conv2_1'))\n",
    "    model.add(ZeroPadding2D((1, 1)))\n",
    "    model.add(Convolution2D(128, 3, 3, activation='relu', name='conv2_2'))\n",
    "    model.add(MaxPooling2D((2, 2), strides=(2, 2)))\n",
    "\n",
    "    model.add(ZeroPadding2D((1, 1)))\n",
    "    model.add(Convolution2D(256, 3, 3, activation='relu', name='conv3_1'))\n",
    "    model.add(ZeroPadding2D((1, 1)))\n",
    "    model.add(Convolution2D(256, 3, 3, activation='relu', name='conv3_2'))\n",
    "    model.add(ZeroPadding2D((1, 1)))\n",
    "    model.add(Convolution2D(256, 3, 3, activation='relu', name='conv3_3'))\n",
    "    model.add(MaxPooling2D((2, 2), strides=(2, 2)))\n",
    "\n",
    "    model.add(ZeroPadding2D((1, 1)))\n",
    "    model.add(Convolution2D(512, 3, 3, activation='relu', name='conv4_1'))\n",
    "    model.add(ZeroPadding2D((1, 1)))\n",
    "    model.add(Convolution2D(512, 3, 3, activation='relu', name='conv4_2'))\n",
    "    model.add(ZeroPadding2D((1, 1)))\n",
    "    model.add(Convolution2D(512, 3, 3, activation='relu', name='conv4_3'))\n",
    "    model.add(MaxPooling2D((2, 2), strides=(2, 2)))\n",
    "\n",
    "    model.add(ZeroPadding2D((1, 1)))\n",
    "    model.add(Convolution2D(512, 3, 3, activation='relu', name='conv5_1'))\n",
    "    model.add(ZeroPadding2D((1, 1)))\n",
    "    model.add(Convolution2D(512, 3, 3, activation='relu', name='conv5_2'))\n",
    "    model.add(ZeroPadding2D((1, 1)))\n",
    "    model.add(Convolution2D(512, 3, 3, activation='relu', name='conv5_3'))\n",
    "    model.add(MaxPooling2D((2, 2), strides=(2, 2)))\n",
    "\n",
    "    # load the weights of the VGG16 networks\n",
    "    # (trained on ImageNet, won the ILSVRC competition in 2014)\n",
    "    # note: when there is a complete match between your model definition\n",
    "    # and your weight savefile, you can simply call model.load_weights(filename)\n",
    "    assert os.path.exists(weights_path), 'Model weights not found (see \"weights_path\" variable in script).'\n",
    "    f = h5py.File(weights_path)\n",
    "    for k in range(f.attrs['nb_layers']):\n",
    "        if k >= len(model.layers):\n",
    "            # we don't look at the last (fully-connected) layers in the savefile\n",
    "            break\n",
    "        g = f['layer_{}'.format(k)]\n",
    "        weights = [g['param_{}'.format(p)] for p in range(g.attrs['nb_params'])]\n",
    "        model.layers[k].set_weights(weights)\n",
    "    f.close()\n",
    "    print('Model loaded.')\n",
    "\n",
    "    generator = datagen.flow_from_directory(\n",
    "            train_data_dir,\n",
    "            target_size=(img_width, img_height),\n",
    "            batch_size=32,\n",
    "            class_mode=None,\n",
    "            shuffle=False)\n",
    "    bottleneck_features_train = model.predict_generator(generator, nb_train_samples)\n",
    "    np.save(open('bottleneck_features_train.npy', 'wb'), bottleneck_features_train)\n",
    "\n",
    "    generator = datagen.flow_from_directory(\n",
    "            validation_data_dir,\n",
    "            target_size=(img_width, img_height),\n",
    "            batch_size=32,\n",
    "            class_mode=None,\n",
    "            shuffle=False)\n",
    "    bottleneck_features_validation = model.predict_generator(generator, nb_validation_samples)\n",
    "    np.save(open('bottleneck_features_validation.npy', 'wb'), bottleneck_features_validation)"
   ]
  },
  {
   "cell_type": "code",
   "execution_count": 20,
   "metadata": {
    "collapsed": true
   },
   "outputs": [],
   "source": [
    "def train_top_model():\n",
    "    train_data = np.load(open('bottleneck_features_train.npy','rb'))\n",
    "    train_labels = np.array([0] * int((nb_train_samples / 2)) + [1] * int((nb_train_samples / 2)))\n",
    "\n",
    "    validation_data = np.load(open('bottleneck_features_validation.npy','rb'))\n",
    "    validation_labels = np.array([0] * int((nb_validation_samples / 2)) + [1] * int((nb_validation_samples / 2)))\n",
    "\n",
    "    model = Sequential()\n",
    "    model.add(Flatten(input_shape=train_data.shape[1:]))\n",
    "    model.add(Dense(256, activation='relu'))\n",
    "    model.add(Dropout(0.5))\n",
    "    model.add(Dense(1, activation='sigmoid'))\n",
    "\n",
    "    model.compile(optimizer='rmsprop', loss='binary_crossentropy', metrics=['accuracy'])\n",
    "\n",
    "    model.fit(train_data, train_labels,\n",
    "              nb_epoch=nb_epoch, batch_size=32,\n",
    "              validation_data=(validation_data, validation_labels))\n",
    "    model.save_weights(top_model_weights_path)"
   ]
  },
  {
   "cell_type": "code",
   "execution_count": 13,
   "metadata": {
    "collapsed": false
   },
   "outputs": [
    {
     "name": "stdout",
     "output_type": "stream",
     "text": [
      "Model loaded.\n",
      "Found 2000 images belonging to 2 classes.\n",
      "Found 800 images belonging to 2 classes.\n"
     ]
    }
   ],
   "source": [
    "save_bottlebeck_features()"
   ]
  },
  {
   "cell_type": "code",
   "execution_count": 21,
   "metadata": {
    "collapsed": false
   },
   "outputs": [
    {
     "name": "stdout",
     "output_type": "stream",
     "text": [
      "Train on 2000 samples, validate on 800 samples\n",
      "Epoch 1/50\n",
      "2000/2000 [==============================] - 1s - loss: 0.9313 - acc: 0.7180 - val_loss: 0.3019 - val_acc: 0.8900\n",
      "Epoch 2/50\n",
      "2000/2000 [==============================] - 1s - loss: 0.3762 - acc: 0.8470 - val_loss: 0.3654 - val_acc: 0.8213\n",
      "Epoch 3/50\n",
      "2000/2000 [==============================] - 1s - loss: 0.3260 - acc: 0.8610 - val_loss: 0.2468 - val_acc: 0.9025\n",
      "Epoch 4/50\n",
      "2000/2000 [==============================] - 1s - loss: 0.2567 - acc: 0.8960 - val_loss: 0.3258 - val_acc: 0.8725\n",
      "Epoch 5/50\n",
      "2000/2000 [==============================] - 2s - loss: 0.2364 - acc: 0.9070 - val_loss: 0.2483 - val_acc: 0.9087\n",
      "Epoch 6/50\n",
      "2000/2000 [==============================] - 2s - loss: 0.2145 - acc: 0.9215 - val_loss: 0.5824 - val_acc: 0.7700\n",
      "Epoch 7/50\n",
      "2000/2000 [==============================] - 3s - loss: 0.1960 - acc: 0.9210 - val_loss: 0.2489 - val_acc: 0.9038\n",
      "Epoch 8/50\n",
      "2000/2000 [==============================] - 3s - loss: 0.1613 - acc: 0.9360 - val_loss: 0.2844 - val_acc: 0.8950\n",
      "Epoch 9/50\n",
      "2000/2000 [==============================] - 3s - loss: 0.1677 - acc: 0.9340 - val_loss: 0.2763 - val_acc: 0.9075\n",
      "Epoch 10/50\n",
      "2000/2000 [==============================] - 4s - loss: 0.1192 - acc: 0.9555 - val_loss: 0.2783 - val_acc: 0.9050\n",
      "Epoch 11/50\n",
      "2000/2000 [==============================] - 4s - loss: 0.0907 - acc: 0.9610 - val_loss: 0.4573 - val_acc: 0.8712\n",
      "Epoch 12/50\n",
      "2000/2000 [==============================] - 6s - loss: 0.1050 - acc: 0.9640 - val_loss: 0.3808 - val_acc: 0.8925\n",
      "Epoch 13/50\n",
      "2000/2000 [==============================] - 7s - loss: 0.0930 - acc: 0.9670 - val_loss: 0.7807 - val_acc: 0.8050\n",
      "Epoch 14/50\n",
      "2000/2000 [==============================] - 7s - loss: 0.0835 - acc: 0.9650 - val_loss: 0.4903 - val_acc: 0.8812\n",
      "Epoch 15/50\n",
      "2000/2000 [==============================] - 7s - loss: 0.0747 - acc: 0.9695 - val_loss: 0.3916 - val_acc: 0.9050\n",
      "Epoch 16/50\n",
      "2000/2000 [==============================] - 7s - loss: 0.0755 - acc: 0.9695 - val_loss: 0.3868 - val_acc: 0.9038\n",
      "Epoch 17/50\n",
      "2000/2000 [==============================] - 8s - loss: 0.0489 - acc: 0.9800 - val_loss: 0.3765 - val_acc: 0.9012\n",
      "Epoch 18/50\n",
      "2000/2000 [==============================] - 7s - loss: 0.0472 - acc: 0.9820 - val_loss: 0.5465 - val_acc: 0.8862\n",
      "Epoch 19/50\n",
      "2000/2000 [==============================] - 7s - loss: 0.0454 - acc: 0.9795 - val_loss: 0.4663 - val_acc: 0.8962\n",
      "Epoch 20/50\n",
      "2000/2000 [==============================] - 8s - loss: 0.0413 - acc: 0.9860 - val_loss: 0.4761 - val_acc: 0.9025\n",
      "Epoch 21/50\n",
      "2000/2000 [==============================] - 7s - loss: 0.0377 - acc: 0.9850 - val_loss: 0.5361 - val_acc: 0.8912\n",
      "Epoch 22/50\n",
      "2000/2000 [==============================] - 8s - loss: 0.0274 - acc: 0.9915 - val_loss: 0.5175 - val_acc: 0.8988\n",
      "Epoch 23/50\n",
      "2000/2000 [==============================] - 7s - loss: 0.0279 - acc: 0.9890 - val_loss: 0.5640 - val_acc: 0.9012\n",
      "Epoch 24/50\n",
      "2000/2000 [==============================] - 8s - loss: 0.0347 - acc: 0.9870 - val_loss: 0.7201 - val_acc: 0.8762\n",
      "Epoch 25/50\n",
      "2000/2000 [==============================] - 7s - loss: 0.0340 - acc: 0.9870 - val_loss: 0.7441 - val_acc: 0.8838\n",
      "Epoch 26/50\n",
      "2000/2000 [==============================] - 7s - loss: 0.0181 - acc: 0.9930 - val_loss: 0.6804 - val_acc: 0.8800\n",
      "Epoch 27/50\n",
      "2000/2000 [==============================] - 8s - loss: 0.0363 - acc: 0.9875 - val_loss: 0.6739 - val_acc: 0.8925\n",
      "Epoch 28/50\n",
      "2000/2000 [==============================] - 7s - loss: 0.0142 - acc: 0.9955 - val_loss: 0.6273 - val_acc: 0.9038\n",
      "Epoch 29/50\n",
      "2000/2000 [==============================] - 8s - loss: 0.0239 - acc: 0.9925 - val_loss: 0.5830 - val_acc: 0.9000\n",
      "Epoch 30/50\n",
      "2000/2000 [==============================] - 8s - loss: 0.0190 - acc: 0.9925 - val_loss: 0.6075 - val_acc: 0.9075\n",
      "Epoch 31/50\n",
      "2000/2000 [==============================] - 9s - loss: 0.0178 - acc: 0.9925 - val_loss: 0.6494 - val_acc: 0.9062\n",
      "Epoch 32/50\n",
      "2000/2000 [==============================] - 8s - loss: 0.0218 - acc: 0.9930 - val_loss: 0.5617 - val_acc: 0.9050\n",
      "Epoch 33/50\n",
      "2000/2000 [==============================] - 8s - loss: 0.0152 - acc: 0.9955 - val_loss: 0.7220 - val_acc: 0.8988\n",
      "Epoch 34/50\n",
      "2000/2000 [==============================] - 8s - loss: 0.0137 - acc: 0.9950 - val_loss: 0.6898 - val_acc: 0.8912\n",
      "Epoch 35/50\n",
      "2000/2000 [==============================] - 8s - loss: 0.0167 - acc: 0.9925 - val_loss: 0.6695 - val_acc: 0.8988\n",
      "Epoch 36/50\n",
      "2000/2000 [==============================] - 8s - loss: 0.0159 - acc: 0.9940 - val_loss: 0.6601 - val_acc: 0.9025\n",
      "Epoch 37/50\n",
      "2000/2000 [==============================] - 7s - loss: 0.0237 - acc: 0.9915 - val_loss: 0.6931 - val_acc: 0.9087\n",
      "Epoch 38/50\n",
      "2000/2000 [==============================] - 8s - loss: 0.0089 - acc: 0.9950 - val_loss: 0.7052 - val_acc: 0.9075\n",
      "Epoch 39/50\n",
      "2000/2000 [==============================] - 8s - loss: 0.0123 - acc: 0.9940 - val_loss: 0.7692 - val_acc: 0.9000\n",
      "Epoch 40/50\n",
      "2000/2000 [==============================] - 8s - loss: 0.0138 - acc: 0.9955 - val_loss: 0.7374 - val_acc: 0.9087\n",
      "Epoch 41/50\n",
      "2000/2000 [==============================] - 8s - loss: 0.0187 - acc: 0.9970 - val_loss: 0.7124 - val_acc: 0.8962\n",
      "Epoch 42/50\n",
      "2000/2000 [==============================] - 8s - loss: 0.0157 - acc: 0.9950 - val_loss: 0.9142 - val_acc: 0.8875\n",
      "Epoch 43/50\n",
      "2000/2000 [==============================] - 7s - loss: 0.0127 - acc: 0.9950 - val_loss: 0.8042 - val_acc: 0.8925\n",
      "Epoch 44/50\n",
      "2000/2000 [==============================] - 8s - loss: 0.0056 - acc: 0.9975 - val_loss: 0.7696 - val_acc: 0.9075\n",
      "Epoch 45/50\n",
      "2000/2000 [==============================] - 7s - loss: 0.0315 - acc: 0.9945 - val_loss: 0.7989 - val_acc: 0.9025\n",
      "Epoch 46/50\n",
      "2000/2000 [==============================] - 7s - loss: 0.0057 - acc: 0.9985 - val_loss: 0.7921 - val_acc: 0.9000\n",
      "Epoch 47/50\n",
      "2000/2000 [==============================] - 7s - loss: 0.0119 - acc: 0.9960 - val_loss: 0.7709 - val_acc: 0.9100\n",
      "Epoch 48/50\n",
      "2000/2000 [==============================] - 7s - loss: 0.0051 - acc: 0.9990 - val_loss: 0.8609 - val_acc: 0.8988\n",
      "Epoch 49/50\n",
      "2000/2000 [==============================] - 7s - loss: 0.0053 - acc: 0.9980 - val_loss: 0.7973 - val_acc: 0.9012\n",
      "Epoch 50/50\n",
      "2000/2000 [==============================] - 7s - loss: 0.0082 - acc: 0.9970 - val_loss: 0.8431 - val_acc: 0.9050\n"
     ]
    }
   ],
   "source": [
    "train_top_model()"
   ]
  },
  {
   "cell_type": "code",
   "execution_count": null,
   "metadata": {
    "collapsed": true
   },
   "outputs": [],
   "source": []
  }
 ],
 "metadata": {
  "kernelspec": {
   "display_name": "Python 3",
   "language": "python",
   "name": "python3"
  },
  "language_info": {
   "codemirror_mode": {
    "name": "ipython",
    "version": 3
   },
   "file_extension": ".py",
   "mimetype": "text/x-python",
   "name": "python",
   "nbconvert_exporter": "python",
   "pygments_lexer": "ipython3",
   "version": "3.4.2"
  }
 },
 "nbformat": 4,
 "nbformat_minor": 1
}
